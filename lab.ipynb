{
 "cells": [
  {
   "cell_type": "code",
   "execution_count": null,
   "metadata": {
    "vscode": {
     "languageId": "javascript"
    }
   },
   "outputs": [],
   "source": [
    "//  install relevant module\n",
    "\n"
   ]
  },
  {
   "cell_type": "code",
   "execution_count": 1,
   "metadata": {
    "vscode": {
     "languageId": "javascript"
    }
   },
   "outputs": [
    {
     "ename": "SyntaxError",
     "evalue": "invalid syntax (2427359022.py, line 1)",
     "output_type": "error",
     "traceback": [
      "\u001b[0;36m  Cell \u001b[0;32mIn[1], line 1\u001b[0;36m\u001b[0m\n\u001b[0;31m    const { chromium } = require(\"playwright\");\u001b[0m\n\u001b[0m          ^\u001b[0m\n\u001b[0;31mSyntaxError\u001b[0m\u001b[0;31m:\u001b[0m invalid syntax\n"
     ]
    }
   ],
   "source": [
    "const { chromium } = require(\"playwright\");\n",
    "const cheerio = require(\"cheerio\");\n",
    "\n",
    "(async () => {\n",
    "  // The URL of the webpage you want to scrape\n",
    "  const url =\n",
    "    \"https://www.alibaba.com/factory/index.html?spm=a2700.product_home_l0.home-tab.manufacturers\"; // Replace with your target URL\n",
    "\n",
    "  // Launch a headless browser using Playwright\n",
    "  // const browser = await chromium.launch({headless: false});\n",
    "  const browser = await chromium.launch();\n",
    "  const page = await browser.newPage();\n",
    "\n",
    "  // Navigate to the URL\n",
    "  await page.goto(url);\n",
    "\n",
    "  // Get the HTML content of the page\n",
    "  const html = await page.content();\n",
    "\n",
    "  // Load the HTML content into Cheerio\n",
    "  const $ = cheerio.load(html);\n",
    "\n",
    "  // Example: Extract the text inside all <h3> elements\n",
    "  const headings = [];\n",
    "  $(\"h3\").each((index, element) => {\n",
    "    const heading = $(element).text();\n",
    "    headings.push(heading);\n",
    "  });\n",
    "\n",
    "  // Print the extracted headings to the console\n",
    "  console.log(\"Headings found:\", headings);\n",
    "\n",
    "  // Close the browser\n",
    "  await browser.close();\n",
    "})();\n"
   ]
  }
 ],
 "metadata": {
  "kernelspec": {
   "display_name": "Python 3.10.14 64-bit",
   "language": "python",
   "name": "python3"
  },
  "language_info": {
   "codemirror_mode": {
    "name": "ipython",
    "version": 3
   },
   "file_extension": ".py",
   "mimetype": "text/x-python",
   "name": "python",
   "nbconvert_exporter": "python",
   "pygments_lexer": "ipython3",
   "version": "3.10.14"
  },
  "orig_nbformat": 4,
  "vscode": {
   "interpreter": {
    "hash": "bd385fe162c5ca0c84973b7dd5c518456272446b2b64e67c2a69f949ca7a1754"
   }
  }
 },
 "nbformat": 4,
 "nbformat_minor": 2
}
